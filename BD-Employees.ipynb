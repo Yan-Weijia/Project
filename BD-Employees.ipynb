{
 "cells": [
  {
   "cell_type": "code",
   "execution_count": 1,
   "metadata": {},
   "outputs": [],
   "source": [
    "import mysql.connector as mysql"
   ]
  },
  {
   "cell_type": "code",
   "execution_count": 2,
   "metadata": {},
   "outputs": [],
   "source": [
    "con = mysql.connect(user = 'root', password = '111111', database = 'employees', charset= 'utf8')"
   ]
  },
  {
   "cell_type": "code",
   "execution_count": 3,
   "metadata": {},
   "outputs": [],
   "source": [
    "cur = con.cursor()"
   ]
  },
  {
   "cell_type": "markdown",
   "metadata": {},
   "source": [
    "### БД"
   ]
  },
  {
   "cell_type": "markdown",
   "metadata": {},
   "source": [
    "Всего 6 таблиц:\n",
    "\n",
    "1) emp_info: Информация сотрудников\n",
    "\n",
    "2) departments: отделы и количество сотрудников в отделе. Каждый человек может принадлежать только одному отделу.\n",
    "\n",
    "3) dep_room: Номера комнат, где расположены отделы\n",
    "\n",
    "4) projects: Проекты, участвующие сотрудниками. Каждый может участвовать в разных проектах\n",
    "\n",
    "5) emp_pro: ID сотрудников и ID проектов\n",
    "\n",
    "6) salary: Зарплаты сотрудников"
   ]
  },
  {
   "cell_type": "code",
   "execution_count": 36,
   "metadata": {},
   "outputs": [
    {
     "name": "stdout",
     "output_type": "stream",
     "text": [
      "emp_id firstname lastname gender depart_id\n",
      "('e001', 'Василий', 'Жуковский', 'male', 'd03')\n",
      "('e002', 'Валерий', 'Брюсов', 'male', 'd02')\n",
      "('e003', 'Сергей', 'Довлатов', 'male', 'd01')\n",
      "('e004', 'Федор', 'Достоевский', 'male', 'd01')\n",
      "('e005', 'Анна', 'Ахматова', 'female', 'd01')\n",
      "('e006', 'Михаил', 'Лермонтов', 'male', 'd01')\n",
      "('e007', 'Лев', 'Толстой', 'male', 'd02')\n",
      "('e008', 'Антон', 'Чехов', 'male', 'd02')\n",
      "('e009', 'Иван', 'Тургенев', 'male', 'd02')\n",
      "('e010', 'Николай', 'Гоголь', 'male', 'd03')\n",
      "('e011', 'Николай', 'Некрасов', 'male', 'd03')\n",
      "('e012', 'Александр', 'Грибоедов', 'male', 'd04')\n",
      "('e013', 'Иван', 'Бунин', 'male', 'd04')\n",
      "('e014', 'Борис', 'Пастернак', 'male', 'd04')\n",
      "('e015', 'Михаил', 'Булгаков', 'male', 'd03')\n",
      "('e016', 'Владимир', 'Высоцкий', 'male', 'd05')\n",
      "('e017', 'Александр', 'Солженицын', 'male', 'd05')\n",
      "('e018', 'Максим', 'Горький', 'male', 'd03')\n",
      "('e019', 'Николай', 'Чернышевский', 'male', 'd03')\n",
      "('e020', 'Василий', 'Шукшин', 'male', 'd03')\n",
      "('e021', 'Марина', 'Цветаева', 'female', 'd05')\n"
     ]
    }
   ],
   "source": [
    "try:\n",
    "    sql_query='select * from emp_info'\n",
    "    cur.execute(sql_query)\n",
    "    print('emp_id', 'firstname', 'lastname', 'gender', 'depart_id')\n",
    "    for i in cur:\n",
    "        print(i)\n",
    "except mysql.Error as e:\n",
    "    print('query error!{}'.format(e))"
   ]
  },
  {
   "cell_type": "code",
   "execution_count": 37,
   "metadata": {},
   "outputs": [
    {
     "name": "stdout",
     "output_type": "stream",
     "text": [
      "dep_id dep_name emp_amount\n",
      "('d01', 'admin', 10)\n",
      "('d02', 'purchasing department', 30)\n",
      "('d03', 'research department', 50)\n",
      "('d04', 'PR department', 20)\n",
      "('d05', 'HR department', 15)\n"
     ]
    }
   ],
   "source": [
    "try:\n",
    "    sql_query='select * from departments'\n",
    "    cur.execute(sql_query)\n",
    "    print('dep_id', 'dep_name', 'emp_amount')\n",
    "    for i in cur:\n",
    "        print(i)\n",
    "except mysql.Error as e:\n",
    "    print('query error!{}'.format(e))"
   ]
  },
  {
   "cell_type": "code",
   "execution_count": 38,
   "metadata": {},
   "outputs": [
    {
     "name": "stdout",
     "output_type": "stream",
     "text": [
      "dep_id room_num\n",
      "('d01', 701)\n",
      "('d02', 702)\n",
      "('d03', 703)\n",
      "('d04', 704)\n",
      "('d05', 705)\n"
     ]
    }
   ],
   "source": [
    "try:\n",
    "    sql_query='select * from dep_room'\n",
    "    cur.execute(sql_query)\n",
    "    print('dep_id', 'room_num')\n",
    "    for i in cur:\n",
    "        print(i)\n",
    "except mysql.Error as e:\n",
    "    print('query error!{}'.format(e))"
   ]
  },
  {
   "cell_type": "code",
   "execution_count": 39,
   "metadata": {},
   "outputs": [
    {
     "name": "stdout",
     "output_type": "stream",
     "text": [
      "pro_id duration\n",
      "('p01', 3)\n",
      "('p02', 5)\n",
      "('p03', 20)\n"
     ]
    }
   ],
   "source": [
    "try:\n",
    "    sql_query='select * from projects'\n",
    "    cur.execute(sql_query)\n",
    "    print('pro_id', 'duration')\n",
    "    for i in cur:\n",
    "        print(i)\n",
    "except mysql.Error as e:\n",
    "    print('query error!{}'.format(e))"
   ]
  },
  {
   "cell_type": "code",
   "execution_count": 41,
   "metadata": {},
   "outputs": [
    {
     "name": "stdout",
     "output_type": "stream",
     "text": [
      "empid proid\n",
      "('e001', 'p01')\n",
      "('e004', 'p01')\n",
      "('e006', 'p01')\n",
      "('e010', 'p01')\n",
      "('e011', 'p01')\n",
      "('e012', 'p01')\n",
      "('e013', 'p01')\n",
      "('e014', 'p01')\n",
      "('e016', 'p01')\n",
      "('e017', 'p01')\n",
      "('e018', 'p01')\n",
      "('e020', 'p01')\n",
      "('e002', 'p02')\n",
      "('e003', 'p02')\n",
      "('e004', 'p02')\n",
      "('e006', 'p02')\n",
      "('e007', 'p02')\n",
      "('e008', 'p02')\n",
      "('e010', 'p02')\n",
      "('e013', 'p02')\n",
      "('e016', 'p02')\n",
      "('e001', 'p03')\n",
      "('e004', 'p03')\n",
      "('e005', 'p03')\n",
      "('e008', 'p03')\n",
      "('e009', 'p03')\n",
      "('e010', 'p03')\n",
      "('e014', 'p03')\n",
      "('e015', 'p03')\n",
      "('e016', 'p03')\n",
      "('e018', 'p03')\n",
      "('e019', 'p03')\n",
      "('e020', 'p03')\n",
      "('e021', 'p03')\n"
     ]
    }
   ],
   "source": [
    "try:\n",
    "    sql_query='select * from emp_pro'\n",
    "    cur.execute(sql_query)\n",
    "    print('empid', 'proid')\n",
    "    for i in cur:\n",
    "        print(i)\n",
    "except mysql.Error as e:\n",
    "    print('query error!{}'.format(e))"
   ]
  },
  {
   "cell_type": "code",
   "execution_count": 40,
   "metadata": {},
   "outputs": [
    {
     "name": "stdout",
     "output_type": "stream",
     "text": [
      "emp_id dollars\n",
      "('e001', 1000.0)\n",
      "('e002', 600.0)\n",
      "('e003', 800.0)\n",
      "('e004', 800.0)\n",
      "('e005', 700.0)\n",
      "('e006', 500.0)\n",
      "('e007', 900.0)\n",
      "('e008', 500.0)\n",
      "('e009', 550.0)\n",
      "('e010', 620.0)\n",
      "('e011', 600.0)\n",
      "('e012', 650.0)\n",
      "('e013', 550.0)\n",
      "('e014', 700.0)\n",
      "('e015', 740.0)\n",
      "('e016', 540.0)\n",
      "('e017', 600.0)\n",
      "('e018', 660.0)\n",
      "('e019', 560.0)\n",
      "('e020', 580.0)\n",
      "('e021', 580.0)\n"
     ]
    }
   ],
   "source": [
    "try:\n",
    "    sql_query='select * from salary'\n",
    "    cur.execute(sql_query)\n",
    "    print('emp_id', 'dollars')\n",
    "    for i in cur:\n",
    "        print(i)\n",
    "except mysql.Error as e:\n",
    "    print('query error!{}'.format(e))"
   ]
  },
  {
   "cell_type": "markdown",
   "metadata": {},
   "source": [
    "### ввод"
   ]
  },
  {
   "cell_type": "code",
   "execution_count": 43,
   "metadata": {},
   "outputs": [],
   "source": [
    "# insert new employee\n",
    "try:\n",
    "    sql_insert=\"insert into emp_info (emp_id, firstname, lastname, gender, depart_id) values (%s, %s, %s, %s, %s)\"\n",
    "    data=('e022','Александр','Пушкин','male','d04')\n",
    "    cur.execute(sql_insert,data)\n",
    "except mysql.Error as e:\n",
    "    print('insert datas error!{}'.format(e))"
   ]
  },
  {
   "cell_type": "code",
   "execution_count": 9,
   "metadata": {},
   "outputs": [],
   "source": [
    "# insert new projects\n",
    "stmt='insert into projects (pro_id, duration) values (%s,%s)'\n",
    "data=[\n",
    "     ('p04',2),\n",
    "     ('p05',7),\n",
    "     ('p06',21)]\n",
    "cur.executemany(stmt,data)"
   ]
  },
  {
   "cell_type": "markdown",
   "metadata": {},
   "source": [
    "### удаление"
   ]
  },
  {
   "cell_type": "code",
   "execution_count": 10,
   "metadata": {},
   "outputs": [],
   "source": [
    "# delete employee\n",
    "try:\n",
    "    sql_delete='delete from emp_info where emp_id = %(emp_id)s'\n",
    "    data={'emp_id':'e022'}\n",
    "    cur.execute(sql_delete,data)\n",
    "except mysql.Error as e:\n",
    "    print('delete error!{}'.format(e))"
   ]
  },
  {
   "cell_type": "markdown",
   "metadata": {},
   "source": [
    "### модификация"
   ]
  },
  {
   "cell_type": "code",
   "execution_count": 11,
   "metadata": {},
   "outputs": [],
   "source": [
    "# move employee e001 from department d03 to d04\n",
    "try:\n",
    "    sql_modif='UPDATE emp_info SET depart_id = %(depart_id)s WHERE emp_id = %(emp_id)s'\n",
    "    data={'depart_id':'d04','emp_id':'e001'}\n",
    "    cur.execute(sql_modif,data)\n",
    "except mysql.Error as e:\n",
    "    print('delete error!{}'.format(e))"
   ]
  },
  {
   "cell_type": "markdown",
   "metadata": {},
   "source": [
    "### выборка"
   ]
  },
  {
   "cell_type": "code",
   "execution_count": 12,
   "metadata": {},
   "outputs": [
    {
     "name": "stdout",
     "output_type": "stream",
     "text": [
      "Staff in department d03:\n",
      "ID: e010,lastname: Гоголь\n",
      "ID: e011,lastname: Некрасов\n",
      "ID: e015,lastname: Булгаков\n",
      "ID: e018,lastname: Горький\n",
      "ID: e019,lastname: Чернышевский\n",
      "ID: e020,lastname: Шукшин\n"
     ]
    }
   ],
   "source": [
    "try:\n",
    "    sql_query='select emp_id,lastname from emp_info where depart_id = %s'\n",
    "    cur.execute(sql_query,('d03',))\n",
    "    print(\"Staff in department d03:\")\n",
    "    for emp_id,lastname in cur:\n",
    "        print (\"ID: %s,lastname: %s\"%(emp_id,lastname))\n",
    "except mysql.Error as e:\n",
    "    print('query error!{}'.format(e))"
   ]
  },
  {
   "cell_type": "code",
   "execution_count": 13,
   "metadata": {},
   "outputs": [
    {
     "name": "stdout",
     "output_type": "stream",
     "text": [
      "Staff in department d03 & in project p01:\n",
      "ID: e010,lastname: Гоголь\n",
      "ID: e011,lastname: Некрасов\n",
      "ID: e018,lastname: Горький\n",
      "ID: e020,lastname: Шукшин\n"
     ]
    }
   ],
   "source": [
    "try:\n",
    "    sql_query='select emp_id,lastname from emp_info where depart_id = %s and emp_id in (select empid from emp_pro where proid = %s)'\n",
    "    cur.execute(sql_query,('d03','p01'))\n",
    "    print(\"Staff in department d03 & in project p01:\")\n",
    "    for emp_id,lastname in cur:\n",
    "        print (\"ID: %s,lastname: %s\"%(emp_id,lastname))\n",
    "except mysql.connector.Error as e:\n",
    "    print('query error!{}'.format(e))"
   ]
  },
  {
   "cell_type": "code",
   "execution_count": 17,
   "metadata": {},
   "outputs": [
    {
     "name": "stdout",
     "output_type": "stream",
     "text": [
      "Staff in project p01 & p02 & p03:\n",
      "ID: e004,lastname: Достоевский\n",
      "ID: e010,lastname: Гоголь\n",
      "ID: e016,lastname: Высоцкий\n"
     ]
    }
   ],
   "source": [
    "try:\n",
    "    sql_query='''select emp_id,lastname from emp_info where emp_id in (\n",
    "                select empid from emp_pro where proid = %s and empid in (\n",
    "                select empid from emp_pro where proid = %s and empid in (\n",
    "                select empid from emp_pro where proid = %s)))'''\n",
    "    cur.execute(sql_query,('p01','p02','p03'))\n",
    "    print(\"Staff in project p01 & p02 & p03:\")\n",
    "    for emp_id,lastname in cur:\n",
    "        print (\"ID: %s,lastname: %s\"%(emp_id,lastname))\n",
    "except mysql.connector.Error as e:\n",
    "    print('query error!{}'.format(e))"
   ]
  },
  {
   "cell_type": "code",
   "execution_count": 34,
   "metadata": {},
   "outputs": [
    {
     "name": "stdout",
     "output_type": "stream",
     "text": [
      "Staff in project p01 & salary more than 600$ & firstname is Николай:\n",
      "ID: e010,lastname: Гоголь\n"
     ]
    }
   ],
   "source": [
    "try:\n",
    "    sql_query='''select emp_id,lastname from emp_info where firstname = %s and emp_id in (\n",
    "                select empid from emp_pro where proid = %s and emp_id in (\n",
    "                select emp_id from salary where dollars > %s ))'''\n",
    "    cur.execute(sql_query,('Николай','p03', 600))\n",
    "    print(\"Staff in project p01 & salary more than 600$ & firstname is Николай:\")\n",
    "    for emp_id,lastname in cur:\n",
    "        print (\"ID: %s,lastname: %s\"%(emp_id,lastname))\n",
    "except mysql.Error as e:\n",
    "    print('query error!{}'.format(e))"
   ]
  },
  {
   "cell_type": "markdown",
   "metadata": {},
   "source": [
    "### JOIN"
   ]
  },
  {
   "cell_type": "code",
   "execution_count": 9,
   "metadata": {},
   "outputs": [
    {
     "name": "stdout",
     "output_type": "stream",
     "text": [
      "('e001', 'Жуковский', 1000.0)\n",
      "('e002', 'Брюсов', 600.0)\n",
      "('e003', 'Довлатов', 800.0)\n",
      "('e004', 'Достоевский', 800.0)\n",
      "('e005', 'Ахматова', 700.0)\n",
      "('e006', 'Лермонтов', 500.0)\n",
      "('e007', 'Толстой', 900.0)\n",
      "('e008', 'Чехов', 500.0)\n",
      "('e009', 'Тургенев', 550.0)\n",
      "('e010', 'Гоголь', 620.0)\n",
      "('e011', 'Некрасов', 600.0)\n",
      "('e012', 'Грибоедов', 650.0)\n",
      "('e013', 'Бунин', 550.0)\n",
      "('e014', 'Пастернак', 700.0)\n",
      "('e015', 'Булгаков', 740.0)\n",
      "('e016', 'Высоцкий', 540.0)\n",
      "('e017', 'Солженицын', 600.0)\n",
      "('e018', 'Горький', 660.0)\n",
      "('e019', 'Чернышевский', 560.0)\n",
      "('e020', 'Шукшин', 580.0)\n",
      "('e021', 'Цветаева', 580.0)\n"
     ]
    }
   ],
   "source": [
    "# employee & salary\n",
    "try:\n",
    "    sql_query=\"\"\"SELECT e.emp_id, lastname, dollars FROM (\n",
    "                emp_info e JOIN salary s ON e.emp_id = s.emp_id)\n",
    "                \"\"\"\n",
    "    cur.execute(sql_query)\n",
    "    for i in cur:\n",
    "        print (i)\n",
    "except mysql.Error as e:\n",
    "    print('query error!{}'.format(e))"
   ]
  },
  {
   "cell_type": "code",
   "execution_count": 10,
   "metadata": {},
   "outputs": [
    {
     "name": "stdout",
     "output_type": "stream",
     "text": [
      "('d01', 'admin', 701)\n",
      "('d02', 'purchasing department', 702)\n",
      "('d03', 'research department', 703)\n",
      "('d04', 'PR department', 704)\n",
      "('d05', 'HR department', 705)\n"
     ]
    }
   ],
   "source": [
    "# department & room number\n",
    "try:\n",
    "    sql_query=\"\"\"SELECT d.dep_id, dep_name, room_num FROM (\n",
    "                departments d JOIN dep_room r ON d.dep_id = r.dep_id)\n",
    "                \"\"\"\n",
    "    cur.execute(sql_query)\n",
    "    for i in cur:\n",
    "        print (i)\n",
    "except mysql.Error as e:\n",
    "    print('query error!{}'.format(e))"
   ]
  },
  {
   "cell_type": "code",
   "execution_count": null,
   "metadata": {},
   "outputs": [],
   "source": [
    "con.commit()\n",
    "cur.close()\n",
    "con.close()"
   ]
  }
 ],
 "metadata": {
  "kernelspec": {
   "display_name": "Python 3",
   "language": "python",
   "name": "python3"
  },
  "language_info": {
   "codemirror_mode": {
    "name": "ipython",
    "version": 3
   },
   "file_extension": ".py",
   "mimetype": "text/x-python",
   "name": "python",
   "nbconvert_exporter": "python",
   "pygments_lexer": "ipython3",
   "version": "3.7.6"
  }
 },
 "nbformat": 4,
 "nbformat_minor": 4
}
